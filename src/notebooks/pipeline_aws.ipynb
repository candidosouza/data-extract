{
 "cells": [
  {
   "cell_type": "code",
   "execution_count": 29,
   "metadata": {},
   "outputs": [],
   "source": [
    "import pandas as pd"
   ]
  },
  {
   "cell_type": "markdown",
   "metadata": {},
   "source": [
    "Importando os arquivos csv"
   ]
  },
  {
   "cell_type": "code",
   "execution_count": 30,
   "metadata": {},
   "outputs": [],
   "source": [
    "files = [\n",
    "    './../data/data_2015.csv',\n",
    "    './../data/data_2016.csv',\n",
    "    './../data/data_2017.csv',\n",
    "    './../data/data_2018.csv',\n",
    "    './../data/data_2019.csv',\n",
    "    './../data/data_2020.csv',\n",
    "]"
   ]
  },
  {
   "cell_type": "markdown",
   "metadata": {},
   "source": [
    "Extraindo o ano de cada arquivo"
   ]
  },
  {
   "cell_type": "code",
   "execution_count": 31,
   "metadata": {},
   "outputs": [],
   "source": [
    "dfs = {}\n",
    "\n",
    "for file in files:\n",
    "    year = file.split(\"_\")[-1].split(\".\")[0]\n",
    "    dfs[year] = pd.read_csv(file)"
   ]
  },
  {
   "cell_type": "markdown",
   "metadata": {},
   "source": [
    "Mostrando os primeiros registros de 2018"
   ]
  },
  {
   "cell_type": "code",
   "execution_count": 32,
   "metadata": {},
   "outputs": [
    {
     "data": {
      "text/html": [
       "<div>\n",
       "<style scoped>\n",
       "    .dataframe tbody tr th:only-of-type {\n",
       "        vertical-align: middle;\n",
       "    }\n",
       "\n",
       "    .dataframe tbody tr th {\n",
       "        vertical-align: top;\n",
       "    }\n",
       "\n",
       "    .dataframe thead th {\n",
       "        text-align: right;\n",
       "    }\n",
       "</style>\n",
       "<table border=\"1\" class=\"dataframe\">\n",
       "  <thead>\n",
       "    <tr style=\"text-align: right;\">\n",
       "      <th></th>\n",
       "      <th>case_enquiry_id</th>\n",
       "      <th>open_dt</th>\n",
       "      <th>target_dt</th>\n",
       "      <th>closed_dt</th>\n",
       "      <th>ontime</th>\n",
       "      <th>case_status</th>\n",
       "      <th>closure_reason</th>\n",
       "      <th>case_title</th>\n",
       "      <th>subject</th>\n",
       "      <th>reason</th>\n",
       "      <th>...</th>\n",
       "      <th>police_district</th>\n",
       "      <th>neighborhood</th>\n",
       "      <th>neighborhood_services_district</th>\n",
       "      <th>ward</th>\n",
       "      <th>precinct</th>\n",
       "      <th>location_street_name</th>\n",
       "      <th>location_zipcode</th>\n",
       "      <th>latitude</th>\n",
       "      <th>longitude</th>\n",
       "      <th>source</th>\n",
       "    </tr>\n",
       "  </thead>\n",
       "  <tbody>\n",
       "    <tr>\n",
       "      <th>0</th>\n",
       "      <td>101002296861</td>\n",
       "      <td>2018-01-01 00:08:00</td>\n",
       "      <td>NaN</td>\n",
       "      <td>2018-03-01 15:18:12</td>\n",
       "      <td>ONTIME</td>\n",
       "      <td>Closed</td>\n",
       "      <td>Case Closed. Closed date : 2018-03-01 15:18:12...</td>\n",
       "      <td>Fire Hydrant</td>\n",
       "      <td>Boston Water &amp; Sewer Commission</td>\n",
       "      <td>Fire Hydrant</td>\n",
       "      <td>...</td>\n",
       "      <td>E13</td>\n",
       "      <td>Jamaica Plain</td>\n",
       "      <td>11</td>\n",
       "      <td>Ward 19</td>\n",
       "      <td>1903</td>\n",
       "      <td>413 Centre St</td>\n",
       "      <td>2130.0</td>\n",
       "      <td>42.3214</td>\n",
       "      <td>-71.1109</td>\n",
       "      <td>Constituent Call</td>\n",
       "    </tr>\n",
       "    <tr>\n",
       "      <th>1</th>\n",
       "      <td>101002296862</td>\n",
       "      <td>2018-01-01 00:09:46</td>\n",
       "      <td>2018-01-02 08:30:00</td>\n",
       "      <td>2018-01-02 21:15:22</td>\n",
       "      <td>OVERDUE</td>\n",
       "      <td>Closed</td>\n",
       "      <td>Case Closed. Closed date : 2018-01-02 21:15:22...</td>\n",
       "      <td>Parking Enforcement</td>\n",
       "      <td>Transportation - Traffic Division</td>\n",
       "      <td>Enforcement &amp; Abandoned Vehicles</td>\n",
       "      <td>...</td>\n",
       "      <td>C6</td>\n",
       "      <td>South Boston / South Boston Waterfront</td>\n",
       "      <td>5</td>\n",
       "      <td>Ward 6</td>\n",
       "      <td>0604</td>\n",
       "      <td>428 W Second St</td>\n",
       "      <td>2127.0</td>\n",
       "      <td>42.3373</td>\n",
       "      <td>-71.0445</td>\n",
       "      <td>Citizens Connect App</td>\n",
       "    </tr>\n",
       "    <tr>\n",
       "      <th>2</th>\n",
       "      <td>101002296864</td>\n",
       "      <td>2018-01-01 00:11:24</td>\n",
       "      <td>2018-01-02 08:30:00</td>\n",
       "      <td>2018-01-02 21:15:11</td>\n",
       "      <td>OVERDUE</td>\n",
       "      <td>Closed</td>\n",
       "      <td>Case Closed. Closed date : 2018-01-02 21:15:11...</td>\n",
       "      <td>Parking Enforcement</td>\n",
       "      <td>Transportation - Traffic Division</td>\n",
       "      <td>Enforcement &amp; Abandoned Vehicles</td>\n",
       "      <td>...</td>\n",
       "      <td>C6</td>\n",
       "      <td>South Boston / South Boston Waterfront</td>\n",
       "      <td>5</td>\n",
       "      <td>Ward 6</td>\n",
       "      <td>0604</td>\n",
       "      <td>401-403 W Second St</td>\n",
       "      <td>2127.0</td>\n",
       "      <td>42.3371</td>\n",
       "      <td>-71.0442</td>\n",
       "      <td>Citizens Connect App</td>\n",
       "    </tr>\n",
       "    <tr>\n",
       "      <th>3</th>\n",
       "      <td>101002296865</td>\n",
       "      <td>2018-01-01 00:19:06</td>\n",
       "      <td>2018-01-02 08:30:00</td>\n",
       "      <td>2018-01-02 21:14:48</td>\n",
       "      <td>OVERDUE</td>\n",
       "      <td>Closed</td>\n",
       "      <td>Case Closed. Closed date : 2018-01-02 21:14:48...</td>\n",
       "      <td>Parking Enforcement</td>\n",
       "      <td>Transportation - Traffic Division</td>\n",
       "      <td>Enforcement &amp; Abandoned Vehicles</td>\n",
       "      <td>...</td>\n",
       "      <td>B3</td>\n",
       "      <td>Dorchester</td>\n",
       "      <td>9</td>\n",
       "      <td>17</td>\n",
       "      <td>1701</td>\n",
       "      <td>INTERSECTION School St &amp; Washington St</td>\n",
       "      <td>NaN</td>\n",
       "      <td>42.3594</td>\n",
       "      <td>-71.0587</td>\n",
       "      <td>Citizens Connect App</td>\n",
       "    </tr>\n",
       "    <tr>\n",
       "      <th>4</th>\n",
       "      <td>101002296866</td>\n",
       "      <td>2018-01-01 00:21:25</td>\n",
       "      <td>2018-01-02 08:30:00</td>\n",
       "      <td>2018-01-02 21:14:32</td>\n",
       "      <td>OVERDUE</td>\n",
       "      <td>Closed</td>\n",
       "      <td>Case Closed. Closed date : 2018-01-02 21:14:32...</td>\n",
       "      <td>Parking Enforcement</td>\n",
       "      <td>Transportation - Traffic Division</td>\n",
       "      <td>Enforcement &amp; Abandoned Vehicles</td>\n",
       "      <td>...</td>\n",
       "      <td>B3</td>\n",
       "      <td>Dorchester</td>\n",
       "      <td>9</td>\n",
       "      <td>Ward 17</td>\n",
       "      <td>1701</td>\n",
       "      <td>6-8 School St</td>\n",
       "      <td>2124.0</td>\n",
       "      <td>42.2965</td>\n",
       "      <td>-71.0729</td>\n",
       "      <td>Citizens Connect App</td>\n",
       "    </tr>\n",
       "  </tbody>\n",
       "</table>\n",
       "<p>5 rows × 29 columns</p>\n",
       "</div>"
      ],
      "text/plain": [
       "   case_enquiry_id              open_dt            target_dt  \\\n",
       "0     101002296861  2018-01-01 00:08:00                  NaN   \n",
       "1     101002296862  2018-01-01 00:09:46  2018-01-02 08:30:00   \n",
       "2     101002296864  2018-01-01 00:11:24  2018-01-02 08:30:00   \n",
       "3     101002296865  2018-01-01 00:19:06  2018-01-02 08:30:00   \n",
       "4     101002296866  2018-01-01 00:21:25  2018-01-02 08:30:00   \n",
       "\n",
       "             closed_dt   ontime case_status  \\\n",
       "0  2018-03-01 15:18:12   ONTIME      Closed   \n",
       "1  2018-01-02 21:15:22  OVERDUE      Closed   \n",
       "2  2018-01-02 21:15:11  OVERDUE      Closed   \n",
       "3  2018-01-02 21:14:48  OVERDUE      Closed   \n",
       "4  2018-01-02 21:14:32  OVERDUE      Closed   \n",
       "\n",
       "                                      closure_reason           case_title  \\\n",
       "0  Case Closed. Closed date : 2018-03-01 15:18:12...         Fire Hydrant   \n",
       "1  Case Closed. Closed date : 2018-01-02 21:15:22...  Parking Enforcement   \n",
       "2  Case Closed. Closed date : 2018-01-02 21:15:11...  Parking Enforcement   \n",
       "3  Case Closed. Closed date : 2018-01-02 21:14:48...  Parking Enforcement   \n",
       "4  Case Closed. Closed date : 2018-01-02 21:14:32...  Parking Enforcement   \n",
       "\n",
       "                             subject                            reason  ...  \\\n",
       "0    Boston Water & Sewer Commission                      Fire Hydrant  ...   \n",
       "1  Transportation - Traffic Division  Enforcement & Abandoned Vehicles  ...   \n",
       "2  Transportation - Traffic Division  Enforcement & Abandoned Vehicles  ...   \n",
       "3  Transportation - Traffic Division  Enforcement & Abandoned Vehicles  ...   \n",
       "4  Transportation - Traffic Division  Enforcement & Abandoned Vehicles  ...   \n",
       "\n",
       "  police_district                            neighborhood  \\\n",
       "0             E13                           Jamaica Plain   \n",
       "1              C6  South Boston / South Boston Waterfront   \n",
       "2              C6  South Boston / South Boston Waterfront   \n",
       "3              B3                              Dorchester   \n",
       "4              B3                              Dorchester   \n",
       "\n",
       "  neighborhood_services_district     ward precinct  \\\n",
       "0                             11  Ward 19     1903   \n",
       "1                              5   Ward 6     0604   \n",
       "2                              5   Ward 6     0604   \n",
       "3                              9       17     1701   \n",
       "4                              9  Ward 17     1701   \n",
       "\n",
       "                     location_street_name location_zipcode latitude longitude  \\\n",
       "0                           413 Centre St           2130.0  42.3214  -71.1109   \n",
       "1                         428 W Second St           2127.0  42.3373  -71.0445   \n",
       "2                     401-403 W Second St           2127.0  42.3371  -71.0442   \n",
       "3  INTERSECTION School St & Washington St              NaN  42.3594  -71.0587   \n",
       "4                           6-8 School St           2124.0  42.2965  -71.0729   \n",
       "\n",
       "                 source  \n",
       "0      Constituent Call  \n",
       "1  Citizens Connect App  \n",
       "2  Citizens Connect App  \n",
       "3  Citizens Connect App  \n",
       "4  Citizens Connect App  \n",
       "\n",
       "[5 rows x 29 columns]"
      ]
     },
     "execution_count": 32,
     "metadata": {},
     "output_type": "execute_result"
    }
   ],
   "source": [
    "dfs[\"2018\"].head()"
   ]
  },
  {
   "cell_type": "markdown",
   "metadata": {},
   "source": [
    "Importando as configurações boto3"
   ]
  },
  {
   "cell_type": "code",
   "execution_count": 57,
   "metadata": {},
   "outputs": [],
   "source": [
    "import sys\n",
    "import os\n",
    "\n",
    "sys.path.append(os.path.abspath('/home/python/app'))\n",
    "from src.config.settings import ConfigBoto3, Settings\n",
    "\n",
    "settings = Settings()"
   ]
  },
  {
   "cell_type": "markdown",
   "metadata": {},
   "source": [
    "Instanciando o cliente"
   ]
  },
  {
   "cell_type": "code",
   "execution_count": 42,
   "metadata": {},
   "outputs": [],
   "source": [
    "boto3 = ConfigBoto3()\n",
    "s3 = boto3.create_client().client()"
   ]
  },
  {
   "cell_type": "markdown",
   "metadata": {},
   "source": [
    "Teste de upload"
   ]
  },
  {
   "cell_type": "code",
   "execution_count": 58,
   "metadata": {},
   "outputs": [],
   "source": [
    "# content = \"\"\"\n",
    "#     Olá, S3\n",
    "# \"\"\"\n",
    "# with open(\"hello-s3.txt\", \"w+\") as f:\n",
    "#     f.write(content)\n",
    "\n",
    "# s3.upload_file(\n",
    "#     \"hello-s3.txt\",\n",
    "#     settings.AWS_BUCKET_NAME,\n",
    "#     \"bronze/hello-s3.txt\"\n",
    "# )"
   ]
  },
  {
   "cell_type": "markdown",
   "metadata": {},
   "source": [
    "Compressão de dados para Paquet e upload para o S3"
   ]
  },
  {
   "cell_type": "code",
   "execution_count": 45,
   "metadata": {},
   "outputs": [],
   "source": [
    "from io import BytesIO\n",
    "\n",
    "# for year, df in dfs.items():\n",
    "#     parquet_buffer = BytesIO()\n",
    "#     df.to_parquet(parquet_buffer)\n",
    "\n",
    "#     s3.put_object(\n",
    "#         Bucket=settings.AWS_BUCKET_NAME,\n",
    "#         Key=f\"bronze/data_{year}.parquet\",\n",
    "#         Body=parquet_buffer.getvalue(),\n",
    "#     )"
   ]
  },
  {
   "cell_type": "markdown",
   "metadata": {},
   "source": [
    "Verificação de upload"
   ]
  },
  {
   "cell_type": "code",
   "execution_count": 61,
   "metadata": {},
   "outputs": [
    {
     "name": "stdout",
     "output_type": "stream",
     "text": [
      "['bronze/', 'silver/']\n"
     ]
    }
   ],
   "source": [
    "response = s3.list_objects(Bucket=settings.AWS_BUCKET_NAME)\n",
    "\n",
    "keys = [obj[\"Key\"] for obj in response[\"Contents\"]]\n",
    "print(keys) "
   ]
  },
  {
   "cell_type": "code",
   "execution_count": null,
   "metadata": {},
   "outputs": [],
   "source": []
  }
 ],
 "metadata": {
  "kernelspec": {
   "display_name": "Python 3",
   "language": "python",
   "name": "python3"
  },
  "language_info": {
   "codemirror_mode": {
    "name": "ipython",
    "version": 3
   },
   "file_extension": ".py",
   "mimetype": "text/x-python",
   "name": "python",
   "nbconvert_exporter": "python",
   "pygments_lexer": "ipython3",
   "version": "3.11.9"
  }
 },
 "nbformat": 4,
 "nbformat_minor": 2
}
